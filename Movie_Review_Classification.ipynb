{
  "nbformat": 4,
  "nbformat_minor": 0,
  "metadata": {
    "colab": {
      "provenance": []
    },
    "kernelspec": {
      "name": "python3",
      "display_name": "Python 3"
    },
    "language_info": {
      "name": "python"
    }
  },
  "cells": [
    {
      "cell_type": "code",
      "execution_count": null,
      "metadata": {
        "id": "nLwlN60Tg950"
      },
      "outputs": [],
      "source": [
        "# Deep learning model to Classify Movie reviews\n",
        "#Binary Classification (Positive Review or Negative Review)\n",
        "#imdb dataset from Keras\n"
      ]
    },
    {
      "cell_type": "code",
      "source": [
        "from keras.datasets import imdb\n",
        "(train_data,train_labels),(test_data,test_labels) = imdb.load_data( num_words = 10000)"
      ],
      "metadata": {
        "id": "E_0CIXJUhQy4",
        "colab": {
          "base_uri": "https://localhost:8080/"
        },
        "outputId": "63a9342d-7796-4081-c0d2-2ed779cd87f7"
      },
      "execution_count": null,
      "outputs": [
        {
          "output_type": "stream",
          "name": "stdout",
          "text": [
            "Downloading data from https://storage.googleapis.com/tensorflow/tf-keras-datasets/imdb.npz\n",
            "\u001b[1m17464789/17464789\u001b[0m \u001b[32m━━━━━━━━━━━━━━━━━━━━\u001b[0m\u001b[37m\u001b[0m \u001b[1m1s\u001b[0m 0us/step\n"
          ]
        }
      ]
    },
    {
      "cell_type": "code",
      "source": [
        "print(f'training data size {train_data.shape}')\n",
        "print(f'training labels size {train_labels.shape}')\n",
        "print(f'testing data size {test_data.shape}')\n",
        "print(f'testing labels size {test_labels.shape}')"
      ],
      "metadata": {
        "colab": {
          "base_uri": "https://localhost:8080/"
        },
        "id": "WoDzLGASigI2",
        "outputId": "3391153c-c189-4fa6-dad8-82dbf0554878"
      },
      "execution_count": null,
      "outputs": [
        {
          "output_type": "stream",
          "name": "stdout",
          "text": [
            "training data size (25000,)\n",
            "training labels size (25000,)\n",
            "testing data size (25000,)\n",
            "testing labels size (25000,)\n"
          ]
        }
      ]
    },
    {
      "cell_type": "code",
      "source": [
        "print(train_data[1][:5])\n",
        "print(len(train_data[1]))"
      ],
      "metadata": {
        "colab": {
          "base_uri": "https://localhost:8080/"
        },
        "id": "XVdDpOZ2i2rx",
        "outputId": "90bd33df-8b59-4ab6-da4c-d9fbdda74b4b"
      },
      "execution_count": null,
      "outputs": [
        {
          "output_type": "stream",
          "name": "stdout",
          "text": [
            "[1, 194, 1153, 194, 8255]\n",
            "189\n"
          ]
        }
      ]
    },
    {
      "cell_type": "code",
      "source": [
        "word_index  = imdb.get_word_index()\n",
        "reversed_word_index = dict([(value,key) for (key,value) in word_index.items()])\n",
        "decoded_review = \"\".join([reversed_word_index.get(i-3,'?') for i in train_data[1]])\n",
        "print('negative review')\n",
        "print(decoded_review)"
      ],
      "metadata": {
        "colab": {
          "base_uri": "https://localhost:8080/"
        },
        "id": "uREbKem8kpWt",
        "outputId": "9bb53d2c-d61f-4755-e7fc-2e2035881e8f"
      },
      "execution_count": null,
      "outputs": [
        {
          "output_type": "stream",
          "name": "stdout",
          "text": [
            "negative review\n",
            "?bighairbigboobsbadmusicandagiantsafetypinthesearethewordstobestdescribethisterriblemovieilovecheesyhorrormoviesandi'veseenhundredsbutthishadgottobeonoftheworstevermadetheplotispaperthinandridiculoustheactingisanabominationthescriptiscompletelylaughablethebestistheendshowdownwiththecopandhowheworkedoutwhothekillerisit'sjustsodamnterriblywrittentheclothesaresickeningandfunnyinequal?thehairisbiglotsofboobs?menwearthosecut?shirtsthatshowofftheir?sickeningthatmenactuallyworethemandthemusicisjust?trashthatplaysoverandoveragaininalmosteveryscenethereistrashymusicboobsand?takingawaybodiesandthegymstilldoesn'tclosefor?alljokingasidethisisatrulybadfilmwhoseonlycharmistolookbackonthedisasterthatwasthe80'sandhaveagoodoldlaughathowbadeverythingwasbackthen\n"
          ]
        }
      ]
    },
    {
      "cell_type": "code",
      "source": [
        "#One hot encoding input data to efficiently processed by Neural network\n",
        "import numpy as np\n",
        "def turn_into_vector(sequences,dimension = 10000):\n",
        "  output_tensor = np.zeros((len(sequences),dimension))\n",
        "  #populate this tensor with all the reviews\n",
        "  for i in range(len(sequences)):\n",
        "    output_tensor[i,sequences[i]] = 1\n",
        "  return output_tensor\n",
        "#vectorize samples\n",
        "x_train = turn_into_vector(train_data)\n",
        "x_test = turn_into_vector(test_data)\n",
        "#print(output_tensor.shape)\n",
        "#vectorize labels\n",
        "y_train = np.asarray(train_labels).astype('float32')\n",
        "y_test = np.asarray(test_labels).astype('float32')\n",
        "\n"
      ],
      "metadata": {
        "id": "DuSS1fdcl_Eo"
      },
      "execution_count": null,
      "outputs": []
    },
    {
      "cell_type": "code",
      "source": [
        "#Neural Net arch.\n",
        "#two hidden Layers with 16 hidden units each(activation:relu)\n",
        "# a third layers which outputs scalar prediction of sentiment of review(classifier prediciton layer)(activation: sigmoid)(binary classifier,sigmoid)\n",
        "#validation\n",
        "x_val = x_train[:1000]\n",
        "partial_x_train = x_train[1000:]\n",
        "y_val = y_train[:1000]\n",
        "partial_y_train = y_train[1000:]"
      ],
      "metadata": {
        "id": "A4ORr-nzz9El"
      },
      "execution_count": null,
      "outputs": []
    },
    {
      "cell_type": "code",
      "source": [
        "from keras import models\n",
        "from keras import layers\n",
        "from keras import optimizers\n",
        "model = models.Sequential()\n",
        "model.add(layers.Dense(32,activation = 'relu',input_shape= (10000,)))\n",
        "\n",
        "\n",
        "model.add(layers.Dense(32,activation = 'relu'))\n",
        "model.add(layers.Dropout(0.5))\n",
        "model.add(layers.Dense(1,activation = 'sigmoid'))\n",
        "\n",
        "model.compile(optimizer = 'rmsprop',loss = 'binary_crossentropy',metrics=['accuracy'])\n",
        "\n",
        "hisroty = model.fit(partial_x_train,partial_y_train,epochs = 15,batch_size = 512, validation_data = (x_val,y_val))\n",
        "\n",
        "model.evaluate(x_test,y_test)\n"
      ],
      "metadata": {
        "id": "KGZZP3wn1g8O",
        "colab": {
          "base_uri": "https://localhost:8080/"
        },
        "outputId": "77d5c94f-bd03-418a-d9ba-6adaac445869"
      },
      "execution_count": null,
      "outputs": [
        {
          "output_type": "stream",
          "name": "stdout",
          "text": [
            "Epoch 1/15\n",
            "\u001b[1m47/47\u001b[0m \u001b[32m━━━━━━━━━━━━━━━━━━━━\u001b[0m\u001b[37m\u001b[0m \u001b[1m3s\u001b[0m 39ms/step - accuracy: 0.6988 - loss: 0.5750 - val_accuracy: 0.8640 - val_loss: 0.3341\n",
            "Epoch 2/15\n",
            "\u001b[1m47/47\u001b[0m \u001b[32m━━━━━━━━━━━━━━━━━━━━\u001b[0m\u001b[37m\u001b[0m \u001b[1m2s\u001b[0m 35ms/step - accuracy: 0.8873 - loss: 0.3130 - val_accuracy: 0.8900 - val_loss: 0.2560\n",
            "Epoch 3/15\n",
            "\u001b[1m47/47\u001b[0m \u001b[32m━━━━━━━━━━━━━━━━━━━━\u001b[0m\u001b[37m\u001b[0m \u001b[1m3s\u001b[0m 38ms/step - accuracy: 0.9188 - loss: 0.2348 - val_accuracy: 0.8950 - val_loss: 0.2469\n",
            "Epoch 4/15\n",
            "\u001b[1m47/47\u001b[0m \u001b[32m━━━━━━━━━━━━━━━━━━━━\u001b[0m\u001b[37m\u001b[0m \u001b[1m2s\u001b[0m 51ms/step - accuracy: 0.9321 - loss: 0.1935 - val_accuracy: 0.8970 - val_loss: 0.2488\n",
            "Epoch 5/15\n",
            "\u001b[1m47/47\u001b[0m \u001b[32m━━━━━━━━━━━━━━━━━━━━\u001b[0m\u001b[37m\u001b[0m \u001b[1m3s\u001b[0m 56ms/step - accuracy: 0.9437 - loss: 0.1664 - val_accuracy: 0.8850 - val_loss: 0.2834\n",
            "Epoch 6/15\n",
            "\u001b[1m47/47\u001b[0m \u001b[32m━━━━━━━━━━━━━━━━━━━━\u001b[0m\u001b[37m\u001b[0m \u001b[1m2s\u001b[0m 39ms/step - accuracy: 0.9511 - loss: 0.1430 - val_accuracy: 0.8820 - val_loss: 0.2933\n",
            "Epoch 7/15\n",
            "\u001b[1m47/47\u001b[0m \u001b[32m━━━━━━━━━━━━━━━━━━━━\u001b[0m\u001b[37m\u001b[0m \u001b[1m2s\u001b[0m 36ms/step - accuracy: 0.9588 - loss: 0.1224 - val_accuracy: 0.8890 - val_loss: 0.2951\n",
            "Epoch 8/15\n",
            "\u001b[1m47/47\u001b[0m \u001b[32m━━━━━━━━━━━━━━━━━━━━\u001b[0m\u001b[37m\u001b[0m \u001b[1m3s\u001b[0m 41ms/step - accuracy: 0.9677 - loss: 0.1017 - val_accuracy: 0.8830 - val_loss: 0.3208\n",
            "Epoch 9/15\n",
            "\u001b[1m47/47\u001b[0m \u001b[32m━━━━━━━━━━━━━━━━━━━━\u001b[0m\u001b[37m\u001b[0m \u001b[1m2s\u001b[0m 38ms/step - accuracy: 0.9722 - loss: 0.0883 - val_accuracy: 0.8920 - val_loss: 0.3369\n",
            "Epoch 10/15\n",
            "\u001b[1m47/47\u001b[0m \u001b[32m━━━━━━━━━━━━━━━━━━━━\u001b[0m\u001b[37m\u001b[0m \u001b[1m3s\u001b[0m 56ms/step - accuracy: 0.9772 - loss: 0.0759 - val_accuracy: 0.8860 - val_loss: 0.3487\n",
            "Epoch 11/15\n",
            "\u001b[1m47/47\u001b[0m \u001b[32m━━━━━━━━━━━━━━━━━━━━\u001b[0m\u001b[37m\u001b[0m \u001b[1m4s\u001b[0m 34ms/step - accuracy: 0.9821 - loss: 0.0605 - val_accuracy: 0.8830 - val_loss: 0.4076\n",
            "Epoch 12/15\n",
            "\u001b[1m47/47\u001b[0m \u001b[32m━━━━━━━━━━━━━━━━━━━━\u001b[0m\u001b[37m\u001b[0m \u001b[1m3s\u001b[0m 37ms/step - accuracy: 0.9817 - loss: 0.0594 - val_accuracy: 0.8880 - val_loss: 0.4152\n",
            "Epoch 13/15\n",
            "\u001b[1m47/47\u001b[0m \u001b[32m━━━━━━━━━━━━━━━━━━━━\u001b[0m\u001b[37m\u001b[0m \u001b[1m2s\u001b[0m 37ms/step - accuracy: 0.9888 - loss: 0.0418 - val_accuracy: 0.8860 - val_loss: 0.4387\n",
            "Epoch 14/15\n",
            "\u001b[1m47/47\u001b[0m \u001b[32m━━━━━━━━━━━━━━━━━━━━\u001b[0m\u001b[37m\u001b[0m \u001b[1m2s\u001b[0m 38ms/step - accuracy: 0.9921 - loss: 0.0322 - val_accuracy: 0.8830 - val_loss: 0.4726\n",
            "Epoch 15/15\n",
            "\u001b[1m47/47\u001b[0m \u001b[32m━━━━━━━━━━━━━━━━━━━━\u001b[0m\u001b[37m\u001b[0m \u001b[1m3s\u001b[0m 58ms/step - accuracy: 0.9921 - loss: 0.0308 - val_accuracy: 0.8810 - val_loss: 0.5183\n",
            "\u001b[1m782/782\u001b[0m \u001b[32m━━━━━━━━━━━━━━━━━━━━\u001b[0m\u001b[37m\u001b[0m \u001b[1m2s\u001b[0m 3ms/step - accuracy: 0.8640 - loss: 0.6133\n"
          ]
        },
        {
          "output_type": "execute_result",
          "data": {
            "text/plain": [
              "[0.6111639142036438, 0.8646000027656555]"
            ]
          },
          "metadata": {},
          "execution_count": 54
        }
      ]
    },
    {
      "cell_type": "code",
      "source": [
        "history_dict = hisroty.history\n",
        "history_dict.keys()"
      ],
      "metadata": {
        "colab": {
          "base_uri": "https://localhost:8080/"
        },
        "id": "IrjDnZAFNaeH",
        "outputId": "f683a1e0-71c1-4593-d2c5-7566d25a8743"
      },
      "execution_count": null,
      "outputs": [
        {
          "output_type": "execute_result",
          "data": {
            "text/plain": [
              "dict_keys(['accuracy', 'loss', 'val_accuracy', 'val_loss'])"
            ]
          },
          "metadata": {},
          "execution_count": 55
        }
      ]
    },
    {
      "cell_type": "code",
      "source": [
        "#Plotting the loss\n",
        "import matplotlib.pyplot as plt\n",
        "loss_values = history_dict['loss']\n",
        "validation_loss_values  = history_dict['val_loss']\n",
        "epochs = range(1,len(history_dict['accuracy'])+1)\n",
        "\n",
        "plt.plot(epochs,loss_values,'bo',label = 'Training loss')\n",
        "plt.plot(epochs,validation_loss_values,'b',label = 'Validation Loss')\n",
        "\n",
        "plt.xlabel = 'Epochs'\n",
        "plt.ylabel = 'Loss'\n",
        "plt.legend()\n",
        "plt.show()\n"
      ],
      "metadata": {
        "colab": {
          "base_uri": "https://localhost:8080/",
          "height": 430
        },
        "id": "wTeu9_x-NnNe",
        "outputId": "7f0f87df-479a-4f78-ada9-859f2f390ed9"
      },
      "execution_count": null,
      "outputs": [
        {
          "output_type": "display_data",
          "data": {
            "text/plain": [
              "<Figure size 640x480 with 1 Axes>"
            ],
            "image/png": "[encoded data removed]"
          },
          "metadata": {}
        }
      ]
    }
  ]
}